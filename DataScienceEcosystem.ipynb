{
 "cells": [
  {
   "cell_type": "markdown",
   "id": "2569642d",
   "metadata": {},
   "source": [
    "# Data Science Tools and Ecosystem\n",
    "\n"
   ]
  },
  {
   "cell_type": "markdown",
   "id": "790ae995",
   "metadata": {},
   "source": [
    "In this notebook, Data Science Tools and Ecosystem are summarized."
   ]
  },
  {
   "cell_type": "markdown",
   "id": "908484d2",
   "metadata": {},
   "source": [
    "##### OBJECTIVES:"
   ]
  },
  {
   "cell_type": "markdown",
   "id": "2b582736",
   "metadata": {},
   "source": [
    "* Add comments to code cells\n",
    "* create markdown cells\n",
    "* Add ordered and unordered lists to markdown cells"
   ]
  },
  {
   "cell_type": "markdown",
   "id": "576e4619",
   "metadata": {},
   "source": [
    "###### List popular languages for Data Science"
   ]
  },
  {
   "cell_type": "markdown",
   "id": "e17034ac",
   "metadata": {},
   "source": [
    "* Python\n",
    "* R\n",
    "* SQL"
   ]
  },
  {
   "cell_type": "markdown",
   "id": "98fd05ff",
   "metadata": {},
   "source": [
    "###### Some of the popular languages that Data Scientists use are\n"
   ]
  },
  {
   "cell_type": "markdown",
   "id": "4441d3c5",
   "metadata": {},
   "source": [
    "1. Python\n",
    "2. R\n",
    "3. Scala\n",
    "4. Java\n",
    "5. C++\n",
    "6. Julia\n",
    "7. visual basic"
   ]
  },
  {
   "cell_type": "markdown",
   "id": "943fef9a",
   "metadata": {},
   "source": [
    "###### Some of the commonly used libraries used by Data Scientists include:\n"
   ]
  },
  {
   "cell_type": "markdown",
   "id": "39b14291",
   "metadata": {},
   "source": [
    "1. Pandas\n",
    "2. Numpy\n",
    "3. Matplotlib\n",
    "4. seaborn\n",
    "5. scikit-learn\n",
    "6. keras\n",
    "7. Tensorflow\n",
    "8. Pytorch\n"
   ]
  },
  {
   "cell_type": "markdown",
   "id": "016baa3f",
   "metadata": {},
   "source": [
    "##### Data Science Tools\n"
   ]
  },
  {
   "cell_type": "markdown",
   "id": "1a650be5",
   "metadata": {},
   "source": [
    "|Data Science Tools|\n",
    "|:-|\n",
    "|1. Anaconda|\n",
    "|2. R Studio|\n",
    "|3. Jupyter Notebooks|"
   ]
  },
  {
   "cell_type": "markdown",
   "id": "56a4979c",
   "metadata": {},
   "source": [
    "### Below are a few examples of evaluating arithmetic expressions in Python."
   ]
  },
  {
   "cell_type": "code",
   "execution_count": 4,
   "id": "150454c9",
   "metadata": {},
   "outputs": [
    {
     "data": {
      "text/plain": [
       "17"
      ]
     },
     "execution_count": 4,
     "metadata": {},
     "output_type": "execute_result"
    }
   ],
   "source": [
    "(3*4)+5\n",
    "#This a simple arithmetic expression to mutiply then add integers\n"
   ]
  },
  {
   "cell_type": "code",
   "execution_count": 9,
   "id": "f6c9ad54",
   "metadata": {},
   "outputs": [
    {
     "data": {
      "text/plain": [
       "3.3333333333333335"
      ]
     },
     "execution_count": 9,
     "metadata": {},
     "output_type": "execute_result"
    }
   ],
   "source": [
    "200/60\n",
    "#This will convert 200 minutes to hours by diving by 60"
   ]
  },
  {
   "cell_type": "markdown",
   "id": "1b04f097",
   "metadata": {},
   "source": [
    "## Author"
   ]
  },
  {
   "cell_type": "markdown",
   "id": "e3b4650a",
   "metadata": {},
   "source": [
    "Jose vivek"
   ]
  }
 ],
 "metadata": {
  "kernelspec": {
   "display_name": "Python 3 (ipykernel)",
   "language": "python",
   "name": "python3"
  },
  "language_info": {
   "codemirror_mode": {
    "name": "ipython",
    "version": 3
   },
   "file_extension": ".py",
   "mimetype": "text/x-python",
   "name": "python",
   "nbconvert_exporter": "python",
   "pygments_lexer": "ipython3",
   "version": "3.9.13"
  }
 },
 "nbformat": 4,
 "nbformat_minor": 5
}
